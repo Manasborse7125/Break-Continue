{
 "cells": [
  {
   "cell_type": "markdown",
   "id": "7f41d976-6cd6-4e66-bf5d-da876048f265",
   "metadata": {},
   "source": [
    "# Break Statement"
   ]
  },
  {
   "cell_type": "code",
   "execution_count": 27,
   "id": "012b882b-9825-40df-a0fd-661b35ec83a7",
   "metadata": {},
   "outputs": [
    {
     "name": "stdout",
     "output_type": "stream",
     "text": [
      "1\n",
      "2\n",
      "3\n",
      "4\n",
      "5\n",
      "6\n"
     ]
    }
   ],
   "source": [
    "x=[1,2,3,4,5,6,-6,-5,-4,-3,-2,-1]\n",
    "for i in x:\n",
    "    if(i<0):\n",
    "        break\n",
    "    else:\n",
    "        print(i)"
   ]
  },
  {
   "cell_type": "markdown",
   "id": "1a557942-467e-4718-8a7d-d653cf179055",
   "metadata": {},
   "source": [
    "# Continue Statement / Pass Statement"
   ]
  },
  {
   "cell_type": "code",
   "execution_count": 32,
   "id": "8573b916-cff1-4cd9-a870-e8bf43ad5177",
   "metadata": {},
   "outputs": [
    {
     "name": "stdout",
     "output_type": "stream",
     "text": [
      "2 X  1 = 2\n",
      "2 X  2 = 4\n",
      "2 X  3 = 6\n",
      "2 X  4 = 8\n",
      "Skipped\n",
      "2 X  6 = 12\n",
      "2 X  7 = 14\n",
      "2 X  8 = 16\n",
      "2 X  9 = 18\n",
      "2 X  10 = 20\n"
     ]
    }
   ],
   "source": [
    "for i in range (1,11):\n",
    "    if(i==5):\n",
    "        print(\"Skipped\")\n",
    "        continue\n",
    "    else:\n",
    "        print(\"2 X \",i,\"=\",(2*i))  "
   ]
  },
  {
   "cell_type": "code",
   "execution_count": 25,
   "id": "38ec98e2-973d-4bd8-b1e9-117d8ad28a9c",
   "metadata": {},
   "outputs": [
    {
     "name": "stdout",
     "output_type": "stream",
     "text": [
      "2\n",
      "3\n",
      "57\n",
      "6\n",
      "26\n",
      "7\n",
      "8\n"
     ]
    }
   ],
   "source": [
    "n=[-1,2,-88,3,-4,57,-5,6,26,7,8,0,-9]\n",
    "for i in n:\n",
    "    if(i<=0):\n",
    "        continue\n",
    "    else:\n",
    "        print(i)"
   ]
  },
  {
   "cell_type": "code",
   "execution_count": 33,
   "id": "029e9122-110e-4903-8fee-cf05d9a6ed16",
   "metadata": {},
   "outputs": [
    {
     "name": "stdout",
     "output_type": "stream",
     "text": [
      "5 X 1 = 5\n",
      "Skipped\n",
      "5 X 3 = 15\n",
      "Skipped\n",
      "5 X 5 = 25\n",
      "Skipped\n",
      "5 X 7 = 35\n",
      "Skipped\n",
      "5 X 9 = 45\n",
      "Skipped\n"
     ]
    }
   ],
   "source": [
    "for i in range(1,11):\n",
    "    if(i%2==0):\n",
    "        print(\"Skipped\")\n",
    "        pass\n",
    "    else:\n",
    "        print(\"5 X\",i,\"=\",(5*i))   "
   ]
  },
  {
   "cell_type": "code",
   "execution_count": null,
   "id": "4e18eaf6-b38f-40d0-9b9b-802492c23627",
   "metadata": {},
   "outputs": [],
   "source": []
  }
 ],
 "metadata": {
  "kernelspec": {
   "display_name": "Python 3 (ipykernel)",
   "language": "python",
   "name": "python3"
  },
  "language_info": {
   "codemirror_mode": {
    "name": "ipython",
    "version": 3
   },
   "file_extension": ".py",
   "mimetype": "text/x-python",
   "name": "python",
   "nbconvert_exporter": "python",
   "pygments_lexer": "ipython3",
   "version": "3.12.4"
  }
 },
 "nbformat": 4,
 "nbformat_minor": 5
}
